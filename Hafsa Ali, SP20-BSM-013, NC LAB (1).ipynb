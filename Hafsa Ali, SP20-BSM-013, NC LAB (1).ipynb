{
 "cells": [
  {
   "cell_type": "code",
   "execution_count": null,
   "id": "3e78673a",
   "metadata": {},
   "outputs": [],
   "source": [
    "#Question 01: (part 01):"
   ]
  },
  {
   "cell_type": "code",
   "execution_count": 1,
   "id": "503e99f3",
   "metadata": {},
   "outputs": [],
   "source": [
    "import numpy as np\n",
    "import matplotlib.pyplot as plt"
   ]
  },
  {
   "cell_type": "code",
   "execution_count": 2,
   "id": "a3505fb5",
   "metadata": {},
   "outputs": [],
   "source": [
    "a = np.linspace (0,10,100)"
   ]
  },
  {
   "cell_type": "code",
   "execution_count": 3,
   "id": "a8d7f0c3",
   "metadata": {},
   "outputs": [
    {
     "data": {
      "text/plain": [
       "array([ 0.        ,  0.1010101 ,  0.2020202 ,  0.3030303 ,  0.4040404 ,\n",
       "        0.50505051,  0.60606061,  0.70707071,  0.80808081,  0.90909091,\n",
       "        1.01010101,  1.11111111,  1.21212121,  1.31313131,  1.41414141,\n",
       "        1.51515152,  1.61616162,  1.71717172,  1.81818182,  1.91919192,\n",
       "        2.02020202,  2.12121212,  2.22222222,  2.32323232,  2.42424242,\n",
       "        2.52525253,  2.62626263,  2.72727273,  2.82828283,  2.92929293,\n",
       "        3.03030303,  3.13131313,  3.23232323,  3.33333333,  3.43434343,\n",
       "        3.53535354,  3.63636364,  3.73737374,  3.83838384,  3.93939394,\n",
       "        4.04040404,  4.14141414,  4.24242424,  4.34343434,  4.44444444,\n",
       "        4.54545455,  4.64646465,  4.74747475,  4.84848485,  4.94949495,\n",
       "        5.05050505,  5.15151515,  5.25252525,  5.35353535,  5.45454545,\n",
       "        5.55555556,  5.65656566,  5.75757576,  5.85858586,  5.95959596,\n",
       "        6.06060606,  6.16161616,  6.26262626,  6.36363636,  6.46464646,\n",
       "        6.56565657,  6.66666667,  6.76767677,  6.86868687,  6.96969697,\n",
       "        7.07070707,  7.17171717,  7.27272727,  7.37373737,  7.47474747,\n",
       "        7.57575758,  7.67676768,  7.77777778,  7.87878788,  7.97979798,\n",
       "        8.08080808,  8.18181818,  8.28282828,  8.38383838,  8.48484848,\n",
       "        8.58585859,  8.68686869,  8.78787879,  8.88888889,  8.98989899,\n",
       "        9.09090909,  9.19191919,  9.29292929,  9.39393939,  9.49494949,\n",
       "        9.5959596 ,  9.6969697 ,  9.7979798 ,  9.8989899 , 10.        ])"
      ]
     },
     "execution_count": 3,
     "metadata": {},
     "output_type": "execute_result"
    }
   ],
   "source": [
    "a"
   ]
  },
  {
   "cell_type": "code",
   "execution_count": 4,
   "id": "806852d8",
   "metadata": {},
   "outputs": [],
   "source": [
    "#Question 03:"
   ]
  },
  {
   "cell_type": "code",
   "execution_count": 5,
   "id": "db4c8301",
   "metadata": {},
   "outputs": [
    {
     "data": {
      "image/png": "[encoded data removed]",
      "text/plain": [
       "<Figure size 432x288 with 1 Axes>"
      ]
     },
     "metadata": {
      "needs_background": "light"
     },
     "output_type": "display_data"
    }
   ],
   "source": [
    "import matplotlib.pyplot as plt\n",
    "x=np.arange(1,10,1)\n",
    "y=x**3-5*x-9\n",
    "plt.plot(x,y,\"o:\")\n",
    "plt.xlabel(\"x_axis\")\n",
    "plt.ylabel(\"y_axis\")\n",
    "plt.grid()\n",
    "plt.show()"
   ]
  },
  {
   "cell_type": "code",
   "execution_count": 6,
   "id": "d8d0e7be",
   "metadata": {},
   "outputs": [],
   "source": [
    "#Question 01: (part 06):"
   ]
  },
  {
   "cell_type": "code",
   "execution_count": 8,
   "id": "6915d6c9",
   "metadata": {},
   "outputs": [],
   "source": [
    "list = ['islamabad, Lahore, faislabad, Peshawar, Quetta']"
   ]
  },
  {
   "cell_type": "code",
   "execution_count": 12,
   "id": "a8a1caeb",
   "metadata": {},
   "outputs": [],
   "source": [
    "list.append ('karachi')\n",
    "list.append ('Sargodha')\n",
    "list.append ('Murree')\n",
    "list.append ('Kashmir')\n",
    "list.append ('Balochistan')"
   ]
  },
  {
   "cell_type": "code",
   "execution_count": 13,
   "id": "5bf58796",
   "metadata": {},
   "outputs": [
    {
     "name": "stdout",
     "output_type": "stream",
     "text": [
      "['islamabad, Lahore, faislabad, Peshawar, Quetta', 'karachi', 'karachi', 'karachi', 'Sargodha', 'Murree', 'Kashmir', 'Balochistan']\n"
     ]
    }
   ],
   "source": [
    "print (list)"
   ]
  },
  {
   "cell_type": "code",
   "execution_count": 14,
   "id": "244ac6fe",
   "metadata": {},
   "outputs": [],
   "source": [
    "#Question 01: (part 07):"
   ]
  },
  {
   "cell_type": "code",
   "execution_count": 15,
   "id": "0df60c94",
   "metadata": {},
   "outputs": [
    {
     "ename": "SyntaxError",
     "evalue": "invalid syntax (<ipython-input-15-b220b6042740>, line 1)",
     "output_type": "error",
     "traceback": [
      "\u001b[1;36m  File \u001b[1;32m\"<ipython-input-15-b220b6042740>\"\u001b[1;36m, line \u001b[1;32m1\u001b[0m\n\u001b[1;33m    With normal variables, we could declare on one line, then initialize on the next:\u001b[0m\n\u001b[1;37m         ^\u001b[0m\n\u001b[1;31mSyntaxError\u001b[0m\u001b[1;31m:\u001b[0m invalid syntax\n"
     ]
    }
   ],
   "source": [
    "With normal variables, we could declare on one line, then initialize on the next:\n",
    "  int x; \n",
    "  x = 0; \n",
    "Or, we could simply initialize the variable in the declaration statement itself:\n",
    "\n",
    "  int x = 0; \n",
    "Can we do the same for arrays? Yes, for the built-in types. Simply list the array values (literals) in set notation { } after the declaration. Here are some examples:\n",
    "\n",
    "  int list[4] = {2, 4, 6, 8}; \n",
    "  char letters[5] = {'a', 'e', 'i', 'o', 'u'}; \n",
    "  double numbers[3] = {3.45, 2.39, 9.1}; \n",
    "  int table[3][2] = {{2, 5} , {3,1} , {4,9}};"
   ]
  },
  {
   "cell_type": "code",
   "execution_count": null,
   "id": "1b04e7c8",
   "metadata": {},
   "outputs": [],
   "source": [
    "#Question 03: (part 01):"
   ]
  },
  {
   "cell_type": "code",
   "execution_count": 19,
   "id": "25a3a6f3",
   "metadata": {},
   "outputs": [
    {
     "name": "stdout",
     "output_type": "stream",
     "text": [
      "array of the integersfrom 30 to 70\n",
      "[ 1  2  3  4  5  6  7  8  9 10 11 12 13 14 15 16 17 18 19 20 21 22 23 24\n",
      " 25 26 27 28 29]\n"
     ]
    }
   ],
   "source": [
    "import numpy as np\n",
    "array= np.arange(1,30)\n",
    "print(\"array of the integersfrom 30 to 70\")\n",
    "print(array)"
   ]
  },
  {
   "cell_type": "code",
   "execution_count": 20,
   "id": "d3fe2cfc",
   "metadata": {},
   "outputs": [],
   "source": [
    "#Question 01(part 2)"
   ]
  },
  {
   "cell_type": "code",
   "execution_count": 21,
   "id": "53b5a930",
   "metadata": {},
   "outputs": [
    {
     "data": {
      "text/plain": [
       "array([ 0,  3,  6,  9, 12, 15, 18, 21, 24, 27, 30, 33, 36, 39, 42, 45, 48,\n",
       "       51, 54, 57, 60, 63, 66, 69, 72, 75, 78, 81, 84, 87, 90, 93, 96, 99])"
      ]
     },
     "execution_count": 21,
     "metadata": {},
     "output_type": "execute_result"
    }
   ],
   "source": [
    "np.arange(0,100,3)"
   ]
  },
  {
   "cell_type": "code",
   "execution_count": 22,
   "id": "ee9c53ca",
   "metadata": {},
   "outputs": [],
   "source": [
    "#question 05:"
   ]
  },
  {
   "cell_type": "code",
   "execution_count": 24,
   "id": "818b70bf",
   "metadata": {},
   "outputs": [
    {
     "ename": "SyntaxError",
     "evalue": "invalid syntax (<ipython-input-24-8337637d849b>, line 28)",
     "output_type": "error",
     "traceback": [
      "\u001b[1;36m  File \u001b[1;32m\"<ipython-input-24-8337637d849b>\"\u001b[1;36m, line \u001b[1;32m28\u001b[0m\n\u001b[1;33m    root = bisection(x0,x1,e)2\u001b[0m\n\u001b[1;37m                             ^\u001b[0m\n\u001b[1;31mSyntaxError\u001b[0m\u001b[1;31m:\u001b[0m invalid syntax\n"
     ]
    }
   ],
   "source": [
    "from math import sin\n",
    "def bisection(x0,x1,e): \n",
    "    step = 1\n",
    "    condition = True\n",
    "    while condition:\n",
    "        x2 = (x0+x1)/2\n",
    "        print('iteration %d, x2 = %0.6f and f(x2)= %0.6f' %(step,x2,f(x2)))\n",
    "        \n",
    "        if f(x0) * f(x2) < 0:\n",
    "            x1 = x2\n",
    "        else:\n",
    "            x0 = x2\n",
    "        step = step +1\n",
    "        condition = abs(f(x2)) > e\n",
    "    print('root is :%0.8f '%x2)\n",
    "#    return x2\n",
    "\n",
    "def f(x):\n",
    "    return x**3-5*x-9\n",
    "\n",
    "x0 = float(input('first guess: '))\n",
    "x1 = float(input('second guess: '))\n",
    "e  = float(input('tolerance: '))\n",
    "\n",
    "if f(x0) * f(x1) > 0.0:\n",
    "    print('given guess values do not bracket the root')\n",
    "else:\n",
    "    root = bisection(x0,x1,e)2\n",
    "\n",
    "import pandas as pd\n",
    "import numpy as np\n",
    "a = pd.Series([0, 1, np.nan, 3, 4, 5, 7])"
   ]
  },
  {
   "cell_type": "code",
   "execution_count": 25,
   "id": "49412673",
   "metadata": {},
   "outputs": [],
   "source": [
    "#question 01 part 04:"
   ]
  },
  {
   "cell_type": "code",
   "execution_count": null,
   "id": "985a9735",
   "metadata": {},
   "outputs": [],
   "source": [
    "plt.plot(x, y)\n",
    "plt.grid()\n",
    "plt.xlabel('x-axis', fontsize =10)\n",
    "plt.ylabel('y-axis', fontsize = 10)\n",
    "\n",
    "f = lambda x: 2*x**3 - 9.5*x +  7.5\n",
    "\n",
    "from math import sin\n",
    "x=input(\"Enter a float:\")\n",
    "\n",
    "def f(x):\n",
    "    x*2 - sin(x)*2 - 4*x + 1\n",
    "print(\"value of x: \", x)"
   ]
  },
  {
   "cell_type": "code",
   "execution_count": null,
   "id": "ba55d10f",
   "metadata": {},
   "outputs": [],
   "source": [
    "#question 01 pRT 03:"
   ]
  },
  {
   "cell_type": "code",
   "execution_count": null,
   "id": "b7b1ffac",
   "metadata": {},
   "outputs": [],
   "source": [
    "import numpy as np\n",
    "import matplotlib.pyplot as plt\n",
    "import math\n",
    "import pandas as pd\n",
    "from scipy import interpolate\n",
    "a1 = np.array([0, 1, 2, 3, 4, 5, 6, 7, 8, 9, 10,])\n",
    "a2 = np.linspace(0,10, 100)\n",
    "np.arange(0,100,3)\n",
    "a2\n",
    "a3 = np.linspace(1, 100)\n",
    "a3-3\n",
    "a3 / 3\n",
    "x = np.linspace(-2,1,10)\n",
    "f = lambda x: x**3 - 5*x - 9"
   ]
  },
  {
   "cell_type": "code",
   "execution_count": null,
   "id": "ec6ab68a",
   "metadata": {},
   "outputs": [],
   "source": []
  }
 ],
 "metadata": {
  "kernelspec": {
   "display_name": "Python 3",
   "language": "python",
   "name": "python3"
  },
  "language_info": {
   "codemirror_mode": {
    "name": "ipython",
    "version": 3
   },
   "file_extension": ".py",
   "mimetype": "text/x-python",
   "name": "python",
   "nbconvert_exporter": "python",
   "pygments_lexer": "ipython3",
   "version": "3.8.8"
  }
 },
 "nbformat": 4,
 "nbformat_minor": 5
}
